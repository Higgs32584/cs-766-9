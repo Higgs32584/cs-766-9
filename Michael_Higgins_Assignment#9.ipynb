{
 "cells": [
  {
   "cell_type": "markdown",
   "metadata": {},
   "source": [
    "# 1. [20 pts] In this assignment, we will update our pipeline to extract keywords that specifically\n",
    "# help to differentiate between reviews labeled as sentiment 0 and reviews labeled as\n",
    "# sentiment 1.\n",
    "# First, remove HTML specific keywords, apply your favorite way of tokenizing and use Tf-Idf\n",
    "# features to classify reviews using an SVM classifier. Report the 10-fold CV performance.\n",
    "# (Hint: Aim 90% plus performance)\n"
   ]
  },
  {
   "cell_type": "code",
   "execution_count": 1,
   "metadata": {},
   "outputs": [
    {
     "name": "stdout",
     "output_type": "stream",
     "text": [
      "bob\n"
     ]
    }
   ],
   "source": []
  }
 ],
 "metadata": {
  "kernelspec": {
   "display_name": "Python 3",
   "language": "python",
   "name": "python3"
  },
  "language_info": {
   "codemirror_mode": {
    "name": "ipython",
    "version": 3
   },
   "file_extension": ".py",
   "mimetype": "text/x-python",
   "name": "python",
   "nbconvert_exporter": "python",
   "pygments_lexer": "ipython3",
   "version": "3.10.8"
  }
 },
 "nbformat": 4,
 "nbformat_minor": 2
}
